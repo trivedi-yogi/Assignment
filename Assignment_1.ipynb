{
 "cells": [
  {
   "cell_type": "markdown",
   "id": "0e23e36c",
   "metadata": {},
   "source": [
    "# Question 1\n",
    "Lets Play With Fibonacci,\n",
    "Write a Python program to get the Fibonacci series between 0 to 50"
   ]
  },
  {
   "cell_type": "code",
   "execution_count": 1,
   "id": "7efcf6b5",
   "metadata": {},
   "outputs": [
    {
     "name": "stdout",
     "output_type": "stream",
     "text": [
      "1 1 2 3 5 8 13 21 34 55 89 144 233 377 610 987 1597 2584 4181 6765 10946 17711 28657 46368 75025 121393 196418 317811 514229 832040 1346269 2178309 3524578 5702887 9227465 14930352 24157817 39088169 63245986 102334155 165580141 267914296 433494437 701408733 1134903170 1836311903 2971215073 4807526976 7778742049 "
     ]
    }
   ],
   "source": [
    "first=0\n",
    "second=1\n",
    "print(second, end=\" \")\n",
    "for i in range(2,50):\n",
    "    series=first+second\n",
    "    first=second\n",
    "    second=series\n",
    "    print(series, end=\" \") "
   ]
  },
  {
   "cell_type": "markdown",
   "id": "cf8fe1c5",
   "metadata": {},
   "source": [
    "# Question 2\n",
    "Send the Words To Mirror Dimension,\n",
    "Write a Python program that accepts a word from the user and reverse it."
   ]
  },
  {
   "cell_type": "code",
   "execution_count": 2,
   "id": "9e6d85ee",
   "metadata": {},
   "outputs": [
    {
     "name": "stdout",
     "output_type": "stream",
     "text": [
      "Enter a Word to Reverse it::Hello\n",
      "Reversed Word:: olleH\n"
     ]
    }
   ],
   "source": [
    "def string_reverse(str_input):\n",
    "    return str_input[::-1]\n",
    "str_1 = str(input(\"Enter a Word to Reverse it::\"))\n",
    "rev = string_reverse(str_1)\n",
    "print('Reversed Word::',rev)"
   ]
  },
  {
   "cell_type": "markdown",
   "id": "48b59937",
   "metadata": {},
   "source": [
    "# Question 3\n",
    "Don't go Outside in Odd day,\n",
    "Write a Python program to count the number of even and odd numbers from a series of numbers."
   ]
  },
  {
   "cell_type": "code",
   "execution_count": 3,
   "id": "b6633ef9",
   "metadata": {},
   "outputs": [
    {
     "name": "stdout",
     "output_type": "stream",
     "text": [
      "Number of Even numbers= 4\n",
      "Number of Odd numbers= 5\n"
     ]
    }
   ],
   "source": [
    "numbers = tuple(range(1,10))\n",
    "Number_of_even_numbers=0\n",
    "Number_of_odd_numbers=0\n",
    "for num in numbers:\n",
    "    if num%2==0:\n",
    "        Number_of_even_numbers += 1\n",
    "    else:\n",
    "        Number_of_odd_numbers += 1\n",
    "print('Number of Even numbers=',Number_of_even_numbers)\n",
    "print('Number of Odd numbers=',Number_of_odd_numbers)"
   ]
  },
  {
   "cell_type": "code",
   "execution_count": null,
   "id": "ffceeb7d",
   "metadata": {},
   "outputs": [],
   "source": []
  }
 ],
 "metadata": {
  "kernelspec": {
   "display_name": "Python 3",
   "language": "python",
   "name": "python3"
  },
  "language_info": {
   "codemirror_mode": {
    "name": "ipython",
    "version": 3
   },
   "file_extension": ".py",
   "mimetype": "text/x-python",
   "name": "python",
   "nbconvert_exporter": "python",
   "pygments_lexer": "ipython3",
   "version": "3.8.8"
  }
 },
 "nbformat": 4,
 "nbformat_minor": 5
}
